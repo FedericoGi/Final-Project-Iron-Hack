{
 "cells": [
  {
   "cell_type": "code",
   "execution_count": null,
   "id": "incomplete-milton",
   "metadata": {},
   "outputs": [],
   "source": [
    "import requests\n",
    "import math\n",
    "import os\n",
    "import csv\n",
    "import numpy as np"
   ]
  },
  {
   "cell_type": "code",
   "execution_count": null,
   "id": "international-responsibility",
   "metadata": {},
   "outputs": [],
   "source": [
    "# get your key from coinmarketcap developer\n",
    "# X-CMC_PRO_API_KEY' this is always the same\n",
    "header = {\n",
    "        'Content-Type': \"application/json\",\n",
    "        'Cache-Control': \"no-cache\"\n",
    "    }\n",
    "\n",
    "#gives us the first five coins in the market, starting from the number one in euro\n",
    "params = dict( { 'page' : page, \"fn\": city, }, **QS_BASE)\n",
    "\n",
    "#website dashboard\n",
    "url = \"https://public-api.blablacar.com/api/v3/trips?from_coordinate=52.520008,13.404954&to_coordinate=51.050407,13.737262&locale=de-DE&currency=EUR&key=xcP0TPgR57BBbCUxjCI8G9S36kRVVnaO'\n"
   ]
  },
  {
   "cell_type": "code",
   "execution_count": null,
   "id": "pediatric-johns",
   "metadata": {},
   "outputs": [],
   "source": []
  },
  {
   "cell_type": "code",
   "execution_count": null,
   "id": "touched-mayor",
   "metadata": {},
   "outputs": [],
   "source": [
    "json = requests.get(url, params= params, headers=headers).json()\n",
    "\n"
   ]
  },
  {
   "cell_type": "code",
   "execution_count": null,
   "id": "protecting-matter",
   "metadata": {},
   "outputs": [],
   "source": []
  },
  {
   "cell_type": "code",
   "execution_count": null,
   "id": "cross-response",
   "metadata": {},
   "outputs": [],
   "source": []
  },
  {
   "cell_type": "code",
   "execution_count": null,
   "id": "enormous-arabic",
   "metadata": {},
   "outputs": [],
   "source": []
  },
  {
   "cell_type": "code",
   "execution_count": null,
   "id": "regular-valuable",
   "metadata": {},
   "outputs": [],
   "source": []
  },
  {
   "cell_type": "code",
   "execution_count": null,
   "id": "closed-superior",
   "metadata": {},
   "outputs": [],
   "source": []
  }
 ],
 "metadata": {
  "kernelspec": {
   "display_name": "Python 3",
   "language": "python",
   "name": "python3"
  },
  "language_info": {
   "codemirror_mode": {
    "name": "ipython",
    "version": 3
   },
   "file_extension": ".py",
   "mimetype": "text/x-python",
   "name": "python",
   "nbconvert_exporter": "python",
   "pygments_lexer": "ipython3",
   "version": "3.9.2"
  }
 },
 "nbformat": 4,
 "nbformat_minor": 5
}
